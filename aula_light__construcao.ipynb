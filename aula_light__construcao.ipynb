{
  "nbformat": 4,
  "nbformat_minor": 0,
  "metadata": {
    "colab": {
      "name": "aula light_ construcao.ipynb",
      "provenance": [],
      "collapsed_sections": [],
      "authorship_tag": "ABX9TyM9//EvAUKI9hUN0912f2IO",
      "include_colab_link": true
    },
    "kernelspec": {
      "name": "python3",
      "display_name": "Python 3"
    }
  },
  "cells": [
    {
      "cell_type": "markdown",
      "metadata": {
        "id": "view-in-github",
        "colab_type": "text"
      },
      "source": [
        "<a href=\"https://colab.research.google.com/github/srgari/Jupyter-Notebook-Labs/blob/master/aula_light__construcao.ipynb\" target=\"_parent\"><img src=\"https://colab.research.google.com/assets/colab-badge.svg\" alt=\"Open In Colab\"/></a>"
      ]
    },
    {
      "cell_type": "markdown",
      "metadata": {
        "id": "vezNlHCUm2CA"
      },
      "source": [
        "# ReGex\n",
        "## - Utilizar para localizar frases que tem (ou não tem) padrões específicos\n",
        "## - nativo no python\n",
        "## - basta importar o módulo re\n",
        "## - já vem embutido no pandas\n"
      ]
    },
    {
      "cell_type": "code",
      "metadata": {
        "id": "whhR-FxWVV5u"
      },
      "source": [
        "import pandas as pd\n",
        "import re"
      ],
      "execution_count": null,
      "outputs": []
    },
    {
      "cell_type": "markdown",
      "metadata": {
        "id": "ItpKSshunN1M"
      },
      "source": [
        "## Melhor maneira de entender: analisar um texto na prática:\n",
        "- parte fácil no começo\n",
        "- partes bacanas no final"
      ]
    },
    {
      "cell_type": "code",
      "metadata": {
        "id": "hwhLcY5DVZga"
      },
      "source": [
        "Construcao = '''\n",
        "Amou daquela vez como se fosse a última\n",
        "Beijou sua mulher como se fosse a última\n",
        "E cada filho seu como se fosse o único\n",
        "E atravessou a rua com seu passo tímido\n",
        "Subiu a construção como se fosse máquina\n",
        "Ergueu no patamar quatro paredes sólidas\n",
        "Tijolo com tijolo num desenho mágico\n",
        "Seus olhos embotados de cimento e lágrima\n",
        "Sentou pra descansar como se fosse sábado\n",
        "Comeu feijão com arroz como se fosse um príncipe\n",
        "Bebeu e soluçou como se fosse um náufrago\n",
        "Dançou e gargalhou como se ouvisse música\n",
        "E tropeçou no céu como se fosse um bêbado\n",
        "E flutuou no ar como se fosse um pássaro\n",
        "E se acabou no chão feito um pacote flácido\n",
        "Agonizou no meio do passeio público\n",
        "Morreu na contramão atrapalhando o tráfego\n",
        "'''"
      ],
      "execution_count": null,
      "outputs": []
    },
    {
      "cell_type": "code",
      "metadata": {
        "id": "uSODh0jfVjB9"
      },
      "source": [
        "df = pd.DataFrame(data = Construcao.split('\\n'), columns = ['versos'])[1:-1]\n",
        "df"
      ],
      "execution_count": null,
      "outputs": []
    },
    {
      "cell_type": "markdown",
      "metadata": {
        "id": "IqOhIYaEniYM"
      },
      "source": [
        "### - fórmulas do re que utilizaremos:\n",
        "\n",
        "#### - re.search(\\<padrao\\>, \\<string\\>) - diz se a frase tem ou não o padrão, e onde\n",
        "\n",
        "#### - re.findall(\\<padrao\\>, \\<string\\>) - localiza todas as repetições\n",
        "\n",
        "### -> vamos usar re.findall() primariamente nesses exercícios\n"
      ]
    },
    {
      "cell_type": "code",
      "metadata": {
        "id": "jIfMWbidn-0M"
      },
      "source": [
        "# Localizar os versos que tem a palavra 'última'\n",
        "df.versos.apply(lambda x: re.search('última',x))"
      ],
      "execution_count": null,
      "outputs": []
    },
    {
      "cell_type": "code",
      "metadata": {
        "id": "AYB8am2Seh-P"
      },
      "source": [
        "# Localizar a palavra última\n",
        "df.versos.apply(lambda x: re.findall('última',x))"
      ],
      "execution_count": null,
      "outputs": []
    },
    {
      "cell_type": "markdown",
      "metadata": {
        "id": "PGKTbIcvoSDN"
      },
      "source": [
        "### Antes de começarmos:\n",
        "#### Eu quero filtrar os versos com a palavra última.\n",
        "#### O que eu devo fazer?\n"
      ]
    },
    {
      "cell_type": "code",
      "metadata": {
        "id": "VVhsHrbeoOLv"
      },
      "source": [
        "filtro = df.versos.str.contains('última')\n",
        "df[filtro]\n"
      ],
      "execution_count": null,
      "outputs": []
    },
    {
      "cell_type": "markdown",
      "metadata": {
        "id": "0Q4xpRS5fpLT"
      },
      "source": [
        "---\n",
        "### Metacaracteres"
      ]
    },
    {
      "cell_type": "markdown",
      "metadata": {
        "id": "SkiJGhKVfrUj"
      },
      "source": [
        ". = qualquer caractere"
      ]
    },
    {
      "cell_type": "code",
      "metadata": {
        "id": "86ZtOc_XejVA"
      },
      "source": [
        "# localizar bebado... ou é bêbado?\n",
        "df.versos.apply(lambda x: re.findall('b.bado',x))"
      ],
      "execution_count": null,
      "outputs": []
    },
    {
      "cell_type": "code",
      "metadata": {
        "id": "zebD1COGejdD"
      },
      "source": [
        "# Cuidado: . pode localizar espaços\n",
        "df.versos.apply(lambda x: re.findall('.bêbado',x))"
      ],
      "execution_count": null,
      "outputs": []
    },
    {
      "cell_type": "code",
      "metadata": {
        "id": "n5bkcMZjejhN"
      },
      "source": [
        "# Cuidado: fim da frase não é um caractere normal\n",
        "df.versos.apply(lambda x: re.findall('bêbado.',x))"
      ],
      "execution_count": null,
      "outputs": []
    },
    {
      "cell_type": "markdown",
      "metadata": {
        "id": "9bledAacguhC"
      },
      "source": [
        "---\n",
        "#### ^ = início da frase\n",
        "![](https://i.imgur.com/PL2B0dM.png)"
      ]
    },
    {
      "cell_type": "code",
      "metadata": {
        "id": "4A_i84RBejlJ"
      },
      "source": [
        "# localizar frases que começam com 'a'\n",
        "df.versos.apply(lambda x: re.findall('^a',x))\n",
        "\n",
        "#... ué, por que veio vazio? "
      ],
      "execution_count": null,
      "outputs": []
    },
    {
      "cell_type": "code",
      "metadata": {
        "id": "FnXtozMpj9p1"
      },
      "source": [
        "# Combinar ^ e .:\n",
        "# localizar frases que começam com Amou, ou amou, ou emou, ou algo assim\n",
        "df.versos.apply(lambda x: re.findall('^.mou', x))"
      ],
      "execution_count": null,
      "outputs": []
    },
    {
      "cell_type": "markdown",
      "metadata": {
        "id": "5i-lWG6wkz0q"
      },
      "source": [
        "---\n",
        "#### $ - fim da frase"
      ]
    },
    {
      "cell_type": "code",
      "metadata": {
        "id": "nm_gXKkfkwae"
      },
      "source": [
        "df.versos.apply(lambda x: re.findall('a$', x))"
      ],
      "execution_count": null,
      "outputs": []
    },
    {
      "cell_type": "markdown",
      "metadata": {
        "id": "Hx6KYIW9mNx4"
      },
      "source": [
        "---\n",
        "#### + = localizar 1 ou mais repetições\n"
      ]
    },
    {
      "cell_type": "code",
      "metadata": {
        "id": "V8QmdCL5mOLw"
      },
      "source": [
        "# localizar palavras que tem um ou mais 'r'  \n",
        "df.versos.apply(lambda x: re.findall('r+', x))"
      ],
      "execution_count": null,
      "outputs": []
    },
    {
      "cell_type": "code",
      "metadata": {
        "id": "puF4QkG5ph9w"
      },
      "source": [
        "# o pandas consegue reconhecer esses metacaracteres\n",
        "filtro = df.versos.str.contains('r+')\n",
        "df[filtro]\n",
        "\n",
        "# quais frases estão faltando? (de cabeça!)"
      ],
      "execution_count": null,
      "outputs": []
    },
    {
      "cell_type": "markdown",
      "metadata": {
        "id": "DuoEw6k5kzTE"
      },
      "source": [
        "---\n",
        "#### * = localizar 0 ou mais repetições\n",
        "![](https://i.imgur.com/PL2B0dM.png) "
      ]
    },
    {
      "cell_type": "code",
      "metadata": {
        "id": "Mv8d90LXejtL"
      },
      "source": [
        "# localizar palavras que tem um ou mais 'r'  \n",
        "df.versos.apply(lambda x: re.findall('r*', x))\n",
        "\n",
        "# apareceu um monte de vírgulas! o que aconteceu!\n",
        "# que alternativas existem pra resolver?"
      ],
      "execution_count": null,
      "outputs": []
    },
    {
      "cell_type": "markdown",
      "metadata": {
        "id": "J7IjwEKLqNva"
      },
      "source": [
        "---\n",
        "#### {} = especificar quantas repetições\n",
        "#### ex: {1}, 1 repetição\n",
        "#### {2}, 2 repetições\n",
        "#### {1,2}, 1 ou 2 repetições\n",
        "#### {1,} 1 ou + repetições"
      ]
    },
    {
      "cell_type": "code",
      "metadata": {
        "id": "XhVfimffejyz"
      },
      "source": [
        "# Jeito inteligente de buscar pássaro\n",
        "df.versos.apply(lambda x: re.findall('pássaro',x))\n"
      ],
      "execution_count": null,
      "outputs": []
    },
    {
      "cell_type": "code",
      "metadata": {
        "id": "A1l6UrqkrjXu"
      },
      "source": [
        "# Jeito burro de buscar pássaro\n",
        "df.versos.apply(lambda x: re.findall('pás{2}aro',x))\n"
      ],
      "execution_count": null,
      "outputs": []
    },
    {
      "cell_type": "code",
      "metadata": {
        "id": "Hhxr1nF5rji9"
      },
      "source": [
        "# Vocês conseguem pensar em outro jeito de achar pássaro?\n",
        "df.versos.apply(lambda x: re.findall('pás{}aro',x))"
      ],
      "execution_count": null,
      "outputs": []
    },
    {
      "cell_type": "markdown",
      "metadata": {
        "id": "GrM9IDnGsfLS"
      },
      "source": [
        "---\n",
        "#### [ ] = especificar caracteres"
      ]
    },
    {
      "cell_type": "code",
      "metadata": {
        "id": "4OHbB-aQsU7e"
      },
      "source": [
        "# tem a palavra última ou último?\n",
        "df.versos.apply(lambda x: re.findall('últim[ao]',x))"
      ],
      "execution_count": null,
      "outputs": []
    },
    {
      "cell_type": "code",
      "metadata": {
        "id": "vW4uqDwqy8ml"
      },
      "source": [
        "# ver palavras que tem uma dessas letras: abcdefghijklmno\n",
        "df.versos.apply(lambda x: re.findall('[a-o]+',x))"
      ],
      "execution_count": null,
      "outputs": []
    },
    {
      "cell_type": "markdown",
      "metadata": {
        "id": "JmELQHHFuoJV"
      },
      "source": [
        "---\n",
        "#### \\ = Caracteres de escape\n",
        "#### \\s = espaço; \n",
        "#### \\w = caracteres, números e _\n",
        "#### \\d = números"
      ]
    },
    {
      "cell_type": "code",
      "metadata": {
        "id": "thOiifqlumVs"
      },
      "source": [
        "# Localizar as letras separadas\n",
        "df.versos.apply(lambda x: re.findall('\\w',x))"
      ],
      "execution_count": null,
      "outputs": []
    },
    {
      "cell_type": "code",
      "metadata": {
        "id": "woLAeVYovHhS"
      },
      "source": [
        "# Localizar as palavras: combinando \\w e *\n",
        "df.versos.apply(lambda x: re.findall('\\w+',x))"
      ],
      "execution_count": null,
      "outputs": []
    },
    {
      "cell_type": "markdown",
      "metadata": {
        "id": "3ZgzV2odvin4"
      },
      "source": [
        "---\n",
        "#### ( | ) = localizar um ou outro\n",
        "#### ex: '(última|única)' = acha um ou o outro"
      ]
    },
    {
      "cell_type": "code",
      "metadata": {
        "id": "eSl8H3cuv0RQ"
      },
      "source": [
        "df.versos.apply(lambda x: re.findall('como se fosse um (bêbado|pássaro)',x))"
      ],
      "execution_count": null,
      "outputs": []
    },
    {
      "cell_type": "code",
      "metadata": {
        "id": "3MEP0orgwM1m"
      },
      "source": [
        "# se não existir o padrão, não vem nada!\n",
        "df.versos.apply(lambda x: re.findall('como se tiveesse  um (bêbado|pássaro)',x))"
      ],
      "execution_count": null,
      "outputs": []
    },
    {
      "cell_type": "markdown",
      "metadata": {
        "id": "eoC5jwIbs7Ck"
      },
      "source": [
        "![](https://i.imgur.com/zClNtMb.png) \n",
        "\n",
        "#### Quero localizar todas as proparoxítonas.\n",
        "#### Quero também saber se as proparoxítonas são singular ou plural\n",
        "#### Também quero saber se são masculinas ou femininas \n",
        "#### Quantos jeitos vocês conseguem pensar? "
      ]
    },
    {
      "cell_type": "code",
      "metadata": {
        "id": "C5Qdhta4sZlu"
      },
      "source": [
        ""
      ],
      "execution_count": null,
      "outputs": []
    },
    {
      "cell_type": "markdown",
      "metadata": {
        "id": "64nQS7IaxmfJ"
      },
      "source": [
        "Clique duas vezes aqui para ver algumas soluções\n",
        "<font color='white'>  \n",
        ">df.versos.apply(lambda x: re.findall('\\w{0,}[áéíóú]\\w{0,}$',x))\n",
        ">df.versos.apply(lambda x: re.findall('\\w*[áéíóú]\\w*$',x))\n",
        ">df.versos.apply(lambda x: re.findall('\\w*[áéíóú][a-z]+$',x))\n",
        "</font>"
      ]
    }
  ]
}